{
 "cells": [
  {
   "cell_type": "code",
   "execution_count": 2,
   "id": "391e78c1-c9a3-4eb0-8577-966f19480652",
   "metadata": {},
   "outputs": [],
   "source": [
    "import torch"
   ]
  },
  {
   "cell_type": "code",
   "execution_count": 3,
   "id": "a540e5aa-8398-4e5f-b24e-d1c4c94d653d",
   "metadata": {},
   "outputs": [
    {
     "name": "stdout",
     "output_type": "stream",
     "text": [
      "2.7.1+cu126\n"
     ]
    }
   ],
   "source": [
    "print(torch.__version__)"
   ]
  },
  {
   "cell_type": "code",
   "execution_count": 4,
   "id": "3403bc0d-828f-44e2-8237-2e6d528ea679",
   "metadata": {},
   "outputs": [
    {
     "name": "stdout",
     "output_type": "stream",
     "text": [
      "CUDA available: True\n",
      "CUDA version: 12.6\n",
      "Device: NVIDIA GeForce RTX 3050 Ti Laptop GPU\n"
     ]
    }
   ],
   "source": [
    "print(\"CUDA available:\", torch.cuda.is_available())\n",
    "print(\"CUDA version:\", torch.version.cuda)\n",
    "print(\"Device:\", torch.cuda.get_device_name(0) if torch.cuda.is_available() else \"N/A\")"
   ]
  },
  {
   "cell_type": "code",
   "execution_count": 5,
   "id": "fdbf8b2d-e56d-4694-83c9-673ce52de081",
   "metadata": {},
   "outputs": [
    {
     "data": {
      "text/plain": [
       "tensor(7)"
      ]
     },
     "execution_count": 5,
     "metadata": {},
     "output_type": "execute_result"
    }
   ],
   "source": [
    "scalar = torch.tensor(7)\n",
    "scalar"
   ]
  },
  {
   "cell_type": "code",
   "execution_count": 6,
   "id": "7c660b2c-0443-4ca0-a933-629f92441256",
   "metadata": {},
   "outputs": [
    {
     "data": {
      "text/plain": [
       "tensor([2, 3])"
      ]
     },
     "execution_count": 6,
     "metadata": {},
     "output_type": "execute_result"
    }
   ],
   "source": [
    "vector = torch.tensor([2,3])\n",
    "vector"
   ]
  },
  {
   "cell_type": "code",
   "execution_count": 7,
   "id": "67cd6358-ebee-4bd1-9617-9cd2d1d3b7f9",
   "metadata": {},
   "outputs": [
    {
     "data": {
      "text/plain": [
       "1"
      ]
     },
     "execution_count": 7,
     "metadata": {},
     "output_type": "execute_result"
    }
   ],
   "source": [
    "vector.ndim"
   ]
  },
  {
   "cell_type": "code",
   "execution_count": 8,
   "id": "0e46de06-1cc5-416b-a38f-26fcecb11e65",
   "metadata": {},
   "outputs": [
    {
     "data": {
      "text/plain": [
       "torch.Size([2])"
      ]
     },
     "execution_count": 8,
     "metadata": {},
     "output_type": "execute_result"
    }
   ],
   "source": [
    "vector.shape"
   ]
  },
  {
   "cell_type": "code",
   "execution_count": 9,
   "id": "15dbe1a2-0a01-4bb0-b68a-6d50bf6eb22f",
   "metadata": {},
   "outputs": [
    {
     "data": {
      "text/plain": [
       "tensor([[1, 2],\n",
       "        [3, 4]])"
      ]
     },
     "execution_count": 9,
     "metadata": {},
     "output_type": "execute_result"
    }
   ],
   "source": [
    "MATRIX = torch.tensor([[1,2],[3,4]])\n",
    "MATRIX"
   ]
  },
  {
   "cell_type": "code",
   "execution_count": 10,
   "id": "61f28099-a719-4646-a911-bd67c1a48743",
   "metadata": {},
   "outputs": [
    {
     "name": "stdout",
     "output_type": "stream",
     "text": [
      "2 torch.Size([2, 2])\n"
     ]
    }
   ],
   "source": [
    "print(MATRIX.ndim,\n",
    "MATRIX.shape)"
   ]
  },
  {
   "cell_type": "code",
   "execution_count": 11,
   "id": "00466571-407f-4ee0-9664-2443a6676c97",
   "metadata": {},
   "outputs": [
    {
     "data": {
      "text/plain": [
       "tensor([[[1, 2, 3],\n",
       "         [4, 5, 6],\n",
       "         [7, 8, 9]]])"
      ]
     },
     "execution_count": 11,
     "metadata": {},
     "output_type": "execute_result"
    }
   ],
   "source": [
    "TENSOR = torch.tensor([[[1,2,3],[4,5,6],[7,8,9]]])\n",
    "TENSOR"
   ]
  },
  {
   "cell_type": "code",
   "execution_count": 12,
   "id": "ad2b9106",
   "metadata": {},
   "outputs": [
    {
     "data": {
      "text/plain": [
       "tensor([[1, 2, 3],\n",
       "        [4, 5, 6],\n",
       "        [7, 8, 9]])"
      ]
     },
     "execution_count": 12,
     "metadata": {},
     "output_type": "execute_result"
    }
   ],
   "source": [
    "TENSOR[0]"
   ]
  },
  {
   "cell_type": "code",
   "execution_count": 13,
   "id": "056a0bdd-53b1-4cf1-940c-329bd1b26575",
   "metadata": {},
   "outputs": [
    {
     "name": "stdout",
     "output_type": "stream",
     "text": [
      "3 torch.Size([1, 3, 3])\n"
     ]
    }
   ],
   "source": [
    "print(TENSOR.ndim,TENSOR.shape)"
   ]
  },
  {
   "cell_type": "code",
   "execution_count": 14,
   "id": "30370c28-b40b-4c74-b727-fb8ef0d40ace",
   "metadata": {},
   "outputs": [
    {
     "data": {
      "text/plain": [
       "tensor([[0.9802, 0.9636, 0.4443, 0.3720],\n",
       "        [0.0230, 0.3949, 0.5940, 0.3246],\n",
       "        [0.6858, 0.6001, 0.4376, 0.0782]])"
      ]
     },
     "execution_count": 14,
     "metadata": {},
     "output_type": "execute_result"
    }
   ],
   "source": [
    "### Random tensors\n",
    "random_tensor = torch.rand(3,4)\n",
    "random_tensor"
   ]
  },
  {
   "cell_type": "code",
   "execution_count": 15,
   "id": "4e01b410",
   "metadata": {},
   "outputs": [
    {
     "data": {
      "text/plain": [
       "2"
      ]
     },
     "execution_count": 15,
     "metadata": {},
     "output_type": "execute_result"
    }
   ],
   "source": [
    "random_tensor.ndim"
   ]
  },
  {
   "cell_type": "code",
   "execution_count": 16,
   "id": "4996bab3",
   "metadata": {},
   "outputs": [
    {
     "data": {
      "text/plain": [
       "tensor([[[8.5676e-04, 5.1636e-02, 2.5393e-01],\n",
       "         [6.5175e-01, 5.4564e-01, 6.6861e-01],\n",
       "         [3.1979e-01, 9.4656e-01, 9.7969e-01],\n",
       "         ...,\n",
       "         [2.2587e-01, 9.2285e-01, 4.6656e-01],\n",
       "         [8.2297e-01, 2.3719e-02, 5.1079e-02],\n",
       "         [4.9480e-01, 9.5943e-01, 1.3391e-01]],\n",
       "\n",
       "        [[2.5713e-01, 9.7241e-01, 1.8110e-01],\n",
       "         [5.2572e-01, 4.4421e-01, 4.1545e-01],\n",
       "         [5.6541e-01, 7.4756e-01, 2.4226e-01],\n",
       "         ...,\n",
       "         [9.9531e-01, 1.5258e-01, 1.2906e-01],\n",
       "         [7.0728e-01, 9.5256e-01, 8.3411e-01],\n",
       "         [7.7798e-01, 8.0504e-01, 8.6076e-01]],\n",
       "\n",
       "        [[1.1501e-01, 6.5849e-01, 1.8405e-01],\n",
       "         [7.8495e-01, 5.8768e-01, 7.1203e-01],\n",
       "         [6.9913e-01, 4.2694e-01, 1.4450e-01],\n",
       "         ...,\n",
       "         [5.5066e-01, 2.8826e-01, 3.6618e-01],\n",
       "         [6.9438e-01, 5.6644e-01, 6.1177e-01],\n",
       "         [8.1789e-01, 5.4303e-02, 5.3014e-02]],\n",
       "\n",
       "        ...,\n",
       "\n",
       "        [[5.1345e-01, 4.8655e-01, 6.9441e-01],\n",
       "         [8.4951e-01, 6.9521e-01, 6.7354e-01],\n",
       "         [9.5901e-01, 3.6846e-01, 5.2929e-01],\n",
       "         ...,\n",
       "         [9.3405e-02, 5.0454e-01, 1.3180e-01],\n",
       "         [9.3634e-01, 2.4646e-01, 3.9789e-01],\n",
       "         [9.3063e-01, 5.8862e-01, 1.1537e-01]],\n",
       "\n",
       "        [[1.0171e-01, 4.0783e-01, 5.2859e-01],\n",
       "         [8.2029e-01, 9.8176e-01, 2.2444e-01],\n",
       "         [7.0537e-01, 8.1805e-01, 1.3863e-01],\n",
       "         ...,\n",
       "         [2.6800e-02, 3.1105e-01, 5.5733e-01],\n",
       "         [8.7574e-01, 3.4198e-01, 6.2010e-01],\n",
       "         [7.3295e-01, 3.0468e-01, 3.5853e-01]],\n",
       "\n",
       "        [[3.8065e-01, 4.4919e-01, 8.1493e-01],\n",
       "         [4.7441e-02, 5.9092e-01, 8.3295e-01],\n",
       "         [7.7109e-01, 1.9854e-01, 5.5399e-01],\n",
       "         ...,\n",
       "         [4.5832e-01, 6.5296e-01, 1.4198e-01],\n",
       "         [7.3252e-01, 7.1694e-01, 6.4951e-01],\n",
       "         [9.2288e-01, 5.9291e-01, 2.8384e-01]]])"
      ]
     },
     "execution_count": 16,
     "metadata": {},
     "output_type": "execute_result"
    }
   ],
   "source": [
    "random__image_size_tensor = torch.rand(size=(224,224,3))\n",
    "random__image_size_tensor"
   ]
  },
  {
   "cell_type": "code",
   "execution_count": 17,
   "id": "de62c6e3",
   "metadata": {},
   "outputs": [
    {
     "data": {
      "text/plain": [
       "(torch.Size([224, 224, 3]), 3)"
      ]
     },
     "execution_count": 17,
     "metadata": {},
     "output_type": "execute_result"
    }
   ],
   "source": [
    "random__image_size_tensor.shape , random__image_size_tensor.ndim"
   ]
  },
  {
   "cell_type": "code",
   "execution_count": 18,
   "id": "32cb3652",
   "metadata": {},
   "outputs": [
    {
     "data": {
      "text/plain": [
       "tensor([[0., 0., 0., 0.],\n",
       "        [0., 0., 0., 0.],\n",
       "        [0., 0., 0., 0.]])"
      ]
     },
     "execution_count": 18,
     "metadata": {},
     "output_type": "execute_result"
    }
   ],
   "source": [
    "#Zeroes and Ones\n",
    "zero = torch.zeros(3,4)\n",
    "zero"
   ]
  },
  {
   "cell_type": "code",
   "execution_count": 23,
   "id": "de689403",
   "metadata": {},
   "outputs": [
    {
     "data": {
      "text/plain": [
       "tensor([[1., 1., 1., 1., 1.],\n",
       "        [1., 1., 1., 1., 1.]])"
      ]
     },
     "execution_count": 23,
     "metadata": {},
     "output_type": "execute_result"
    }
   ],
   "source": [
    "ones = torch.ones(2,5)\n",
    "ones"
   ]
  },
  {
   "cell_type": "code",
   "execution_count": 21,
   "id": "5de364cf",
   "metadata": {},
   "outputs": [
    {
     "data": {
      "text/plain": [
       "(torch.float32, torch.float32)"
      ]
     },
     "execution_count": 21,
     "metadata": {},
     "output_type": "execute_result"
    }
   ],
   "source": [
    "ones.dtype , zero.dtype"
   ]
  },
  {
   "cell_type": "code",
   "execution_count": 33,
   "id": "6ba4f271",
   "metadata": {},
   "outputs": [
    {
     "data": {
      "text/plain": [
       "tensor([ 1,  2,  3,  4,  5,  6,  7,  8,  9, 10])"
      ]
     },
     "execution_count": 33,
     "metadata": {},
     "output_type": "execute_result"
    }
   ],
   "source": [
    "range =  torch.arange(1,11)\n",
    "range"
   ]
  },
  {
   "cell_type": "code",
   "execution_count": 34,
   "id": "671c1e68",
   "metadata": {},
   "outputs": [
    {
     "data": {
      "text/plain": [
       "tensor([0, 0, 0, 0, 0, 0, 0, 0, 0, 0])"
      ]
     },
     "execution_count": 34,
     "metadata": {},
     "output_type": "execute_result"
    }
   ],
   "source": [
    "#tensors like\n",
    "ten_zeros = torch.zeros_like(input=range)\n",
    "ten_zeros"
   ]
  },
  {
   "cell_type": "code",
   "execution_count": null,
   "id": "d655f800",
   "metadata": {},
   "outputs": [],
   "source": []
  }
 ],
 "metadata": {
  "kernelspec": {
   "display_name": "Python 3",
   "language": "python",
   "name": "python3"
  },
  "language_info": {
   "codemirror_mode": {
    "name": "ipython",
    "version": 3
   },
   "file_extension": ".py",
   "mimetype": "text/x-python",
   "name": "python",
   "nbconvert_exporter": "python",
   "pygments_lexer": "ipython3",
   "version": "3.12.4"
  }
 },
 "nbformat": 4,
 "nbformat_minor": 5
}
